{
  "nbformat": 4,
  "nbformat_minor": 0,
  "metadata": {
    "colab": {
      "provenance": [],
      "authorship_tag": "ABX9TyOoLwzw9waD3dQgEePs4R89",
      "include_colab_link": true
    },
    "kernelspec": {
      "name": "python3",
      "display_name": "Python 3"
    },
    "language_info": {
      "name": "python"
    }
  },
  "cells": [
    {
      "cell_type": "markdown",
      "metadata": {
        "id": "view-in-github",
        "colab_type": "text"
      },
      "source": [
        "<a href=\"https://colab.research.google.com/github/blooming-daisy/nomad_coder_project/blob/master/python_challenge/Python_Challenge_5_OOP.ipynb\" target=\"_parent\"><img src=\"https://colab.research.google.com/assets/colab-badge.svg\" alt=\"Open In Colab\"/></a>"
      ]
    },
    {
      "cell_type": "markdown",
      "source": [
        "## 5.0 Introduction\n",
        "- OOP (**O**bject **O**riented **P**rogramming): 객체지향프로그래밍\n",
        "  - *코드를 구성하는 방법에 대한 규칙이자 실행에 대한 방법*임\n",
        "  - Python 뿐만 아니라 Java, JS, C# 등등에서 OOP를 지원함\n",
        "  - 직관적이고 구성적이라 많은 개발자들이 선호함\n",
        "  - Class, Property, Method, Inheritance(상속)"
      ],
      "metadata": {
        "id": "WzWUmv9DxTXY"
      }
    },
    {
      "cell_type": "markdown",
      "source": [
        "## 5.1 Why we need OOP\n",
        "- 데이터를 기반으로 동작하는 함수로 데이터를 캡슐화할 수 있음\n",
        "- 다른 종류의 데이터와 함수들을 동일한 하나의 파일에 모두 가지고 있지 않고도 데이터를 구체화할 수 있음"
      ],
      "metadata": {
        "id": "Jg01YBWMymea"
      }
    },
    {
      "cell_type": "markdown",
      "source": [
        "## 5.2 Classes\n",
        "- Like 우리의 데이터가 어떻게 생겨야하는지에 대한 청사진 (데이터의 구조를 정의해주고 캡슐화 해줌)\n",
        "\n",
        "- cf) Methods: Class 안에 있는 함수\n",
        "  - Class 밖에 있으면 그냥 function\n",
        "  - Class 안에 있으면 methods!"
      ],
      "metadata": {
        "id": "dMg-WZh80puR"
      }
    },
    {
      "cell_type": "code",
      "execution_count": 2,
      "metadata": {
        "colab": {
          "base_uri": "https://localhost:8080/"
        },
        "id": "YlHS9Zs4wv2G",
        "outputId": "0dfad924-dbd5-4163-ef77-9c3b9f6cee70"
      },
      "outputs": [
        {
          "output_type": "stream",
          "name": "stdout",
          "text": [
            "<__main__.Puppy object at 0x7f7e1e769730>\n"
          ]
        }
      ],
      "source": [
        "class Puppy:\n",
        "  pass\n",
        "\n",
        "ruff = Puppy() #ruffus가 Puppy() 의 한 종류임을 알려주는 것\n",
        "print(ruff)"
      ]
    },
    {
      "cell_type": "code",
      "source": [
        "class Puppy:\n",
        "\n",
        "  def __init__():\n",
        "    print(\"Puppy is born!\")\n",
        "\n",
        "ruff = Puppy() #ruffus가 Puppy() 의 한 종류임을 알려주는 것\n",
        "print(ruff)"
      ],
      "metadata": {
        "colab": {
          "base_uri": "https://localhost:8080/",
          "height": 198
        },
        "id": "zoAzMG9U1D9i",
        "outputId": "c064ca12-d386-440f-d048-5b20b5b5654f"
      },
      "execution_count": 3,
      "outputs": [
        {
          "output_type": "error",
          "ename": "TypeError",
          "evalue": "Puppy.__init__() takes 0 positional arguments but 1 was given",
          "traceback": [
            "\u001b[0;31m---------------------------------------------------------------------------\u001b[0m",
            "\u001b[0;31mTypeError\u001b[0m                                 Traceback (most recent call last)",
            "\u001b[0;32m/tmp/ipython-input-4000331554.py\u001b[0m in \u001b[0;36m<cell line: 0>\u001b[0;34m()\u001b[0m\n\u001b[1;32m      4\u001b[0m     \u001b[0mprint\u001b[0m\u001b[0;34m(\u001b[0m\u001b[0;34m\"Puppy is born!\"\u001b[0m\u001b[0;34m)\u001b[0m\u001b[0;34m\u001b[0m\u001b[0;34m\u001b[0m\u001b[0m\n\u001b[1;32m      5\u001b[0m \u001b[0;34m\u001b[0m\u001b[0m\n\u001b[0;32m----> 6\u001b[0;31m \u001b[0mruff\u001b[0m \u001b[0;34m=\u001b[0m \u001b[0mPuppy\u001b[0m\u001b[0;34m(\u001b[0m\u001b[0;34m)\u001b[0m \u001b[0;31m#ruffus가 Puppy() 의 한 종류임을 알려주는 것\u001b[0m\u001b[0;34m\u001b[0m\u001b[0;34m\u001b[0m\u001b[0m\n\u001b[0m\u001b[1;32m      7\u001b[0m \u001b[0mprint\u001b[0m\u001b[0;34m(\u001b[0m\u001b[0mruff\u001b[0m\u001b[0;34m)\u001b[0m\u001b[0;34m\u001b[0m\u001b[0;34m\u001b[0m\u001b[0m\n",
            "\u001b[0;31mTypeError\u001b[0m: Puppy.__init__() takes 0 positional arguments but 1 was given"
          ]
        }
      ]
    },
    {
      "cell_type": "markdown",
      "source": [
        "- **'TypeError: Puppy.__init__() takes 0 positional arguments but 1 was given'** 에서 알 수 있는 것\n",
        "  - 1) ruff에 Pyppy()를 할당한 순간에, python이 자동으로 우리 class의 \\_\\_init\\_\\_() method를 호출함\n",
        "  - 2) \\_\\_init\\_\\_() method에 1개의 argument가 주어짐\n",
        "    - 우리가 생성한 \\_\\_init\\_\\_ method는 argument를 받고 있지 않지만, Python이 뒤에서 이 method와 함께 무언가를 같이 호출하고 있다는 뜻!"
      ],
      "metadata": {
        "id": "DMDFOf8i4xgF"
      }
    },
    {
      "cell_type": "markdown",
      "source": [
        "### * Very important rule\n",
        "1. method는 class 안에 있는 함수다.\n",
        "2. class에 method가 있는 경우, 자동으로 method의 첫 번째 argument는 **self**여야 한다."
      ],
      "metadata": {
        "id": "pUMNZZtq6QW6"
      }
    },
    {
      "cell_type": "markdown",
      "source": [
        "### * \\_\\_init\\_\\_ 내용 보완\n",
        "- \\_\\_init\\_\\_은 **초기화 메서드 (initializer)** 또는 **생성자 (Constructor)** 라고 불리는 특별한 규칙의 함수이다.\n",
        "  - 이름 앞뒤에 밑줄 두 개가 있어서, **던더 (Dunder, Double Underscores)** 라고 부른다.\n",
        "\n",
        "- \\_\\_init\\_\\_은 붕어빵 틀에 팥 속을 넣어주는 자동기계다!\n",
        "  - 특징 1️⃣: 자동으로 작동한다.\n",
        "    - 우리가 '붕어빵을 만들어줘!' 하고 주문(Player(..))를 넣는 순간, 자동으로 이 기계 (\\_\\_init\\_\\_)이 호출된다.\n",
        "\n",
        "  - 특징 2️⃣: 재료를 받아서 속을 채운다.\n",
        "    - 붕어빵 주문을 할 때 '팥이나 슈크림으로 해주세요' 라고 재료를 정해주면, 그 재료에 맞춰 붕어빵에 넣어준다.\n",
        "\n",
        "  - 특징 3️⃣: 모든 붕어빵에 적용된다.\n",
        "    - 이 틀로 만드는 모든 붕어빵은 예외 없이 이 \\_\\_init\\_\\_ 기계를 거쳐 속이 채워진다.\n"
      ],
      "metadata": {
        "id": "8m1zeCRPYRPH"
      }
    },
    {
      "cell_type": "code",
      "source": [
        "class Puppy:\n",
        "\n",
        "  def __init__(self):\n",
        "    print(self)\n",
        "    print(\"Puppy is born!\")\n",
        "\n",
        "ruff = Puppy()\n",
        "print(ruff)"
      ],
      "metadata": {
        "colab": {
          "base_uri": "https://localhost:8080/"
        },
        "id": "5e-fpe6G4pNf",
        "outputId": "ba44956d-4e95-4051-d4c8-47bcd7d1b56f"
      },
      "execution_count": 9,
      "outputs": [
        {
          "output_type": "stream",
          "name": "stdout",
          "text": [
            "<__main__.Puppy object at 0x7f7e16ec2540>\n",
            "Puppy is born!\n",
            "<__main__.Puppy object at 0x7f7e16ec2540>\n"
          ]
        }
      ]
    },
    {
      "cell_type": "code",
      "source": [
        "class Puppy:\n",
        "\n",
        "  def __init__(self):\n",
        "    self.name = \"Ruff\"\n",
        "    self.age = \"1 month\"\n",
        "    self.breed = 'Beagle'\n",
        "\n",
        "ruff = Puppy()\n",
        "print(ruff.name)\n",
        "print(ruff.age)\n",
        "print(ruff.breed)\n",
        "print(\"*\"*6)\n",
        "bibi = Puppy()\n",
        "print(bibi.name)\n",
        "print(bibi.age)\n",
        "print(bibi.breed)\n",
        "# 하지만 위에서처럼 작성을 하게 된다면, 다른 항목 역시 동일한 값을 받게 된다."
      ],
      "metadata": {
        "colab": {
          "base_uri": "https://localhost:8080/"
        },
        "id": "vZpDFuQY7y2W",
        "outputId": "14580ee4-6bf9-4bf5-bbaf-898fba09a132"
      },
      "execution_count": 20,
      "outputs": [
        {
          "output_type": "stream",
          "name": "stdout",
          "text": [
            "Ruff\n",
            "1 month\n",
            "Beagle\n",
            "******\n",
            "Ruff\n",
            "1 month\n",
            "Beagle\n"
          ]
        }
      ]
    },
    {
      "cell_type": "markdown",
      "source": [
        "- 위의 예시에서...\n",
        "  - ruff와 self의 메모리 저장 주소가 동일한 것으로 미루어보아, 둘은 동일한 **Puppy()** 객체를 참조하고 있음을 알 수 있음!\n",
        "  - 우리가 class를 초기화할 때, python은 class를 커스텀 할 수 있는 기회를 주고 있음"
      ],
      "metadata": {
        "id": "_TOt0EAI7QQE"
      }
    },
    {
      "cell_type": "markdown",
      "source": [
        "## 5.3 Methods"
      ],
      "metadata": {
        "id": "lqrcw0oe8nvC"
      }
    },
    {
      "cell_type": "code",
      "source": [
        "class Puppy:\n",
        "\n",
        "  def __init__(self, name, breed):\n",
        "    self.name = name\n",
        "    self.age = \"1 month\"\n",
        "    self.breed = breed\n",
        "\n",
        "\n",
        "ruff = Puppy(\n",
        "    name = \"Ruff\",\n",
        "    breed = \"Beagle\"\n",
        "    )\n",
        "bibi = Puppy(\n",
        "    name = \"Bibi\",\n",
        "    breed = \"Golden Retriever\"\n",
        "    )\n",
        "\n",
        "print(ruff.name)\n",
        "print(bibi.name)"
      ],
      "metadata": {
        "colab": {
          "base_uri": "https://localhost:8080/"
        },
        "id": "DRoDO0bh6vPl",
        "outputId": "17c14610-6383-4bc4-a564-ddce20b2dcdb"
      },
      "execution_count": 26,
      "outputs": [
        {
          "output_type": "stream",
          "name": "stdout",
          "text": [
            "Ruff\n",
            "Bibi\n"
          ]
        }
      ]
    },
    {
      "cell_type": "code",
      "source": [
        "# __str__ 추가한 경우\n",
        "\n",
        "class Puppy:\n",
        "\n",
        "  def __init__(self, name, breed):\n",
        "    self.name = name\n",
        "    self.age = \"1 month\"\n",
        "    self.breed = breed\n",
        "\n",
        "  def __str__(self): # 자동으로 Python이 호출해주는 함수\n",
        "    return f\"{self.breed} named {self.name}\" # 데이터에 접근하는 함수\n",
        "\n",
        "\n",
        "\n",
        "# 아래에서 ruff와 bibi는 'instance'라고 함\n",
        "# instance: class의 청사진을 활용해 만들어진 object라는 뜻\n",
        "ruff = Puppy(\n",
        "    name = \"Ruff\",\n",
        "    breed = \"Beagle\"\n",
        "    )\n",
        "bibi = Puppy(\n",
        "    name = \"Bibi\",\n",
        "    breed = \"Golden Retriever\"\n",
        "    )\n",
        "\n",
        "\n",
        "print(ruff)\n",
        "print(bibi)\n",
        "\n",
        "print(bibi.age)\n"
      ],
      "metadata": {
        "colab": {
          "base_uri": "https://localhost:8080/"
        },
        "id": "Bsj8mVx7Apqk",
        "outputId": "1df0486d-1fc4-4541-a57d-d4b79921ba1e"
      },
      "execution_count": 33,
      "outputs": [
        {
          "output_type": "stream",
          "name": "stdout",
          "text": [
            "Beagle named Ruff\n",
            "Golden Retriever named Bibi\n",
            "1 month\n"
          ]
        }
      ]
    },
    {
      "cell_type": "markdown",
      "source": [
        "## 5.4 Inheritance (Part 1)\n",
        "- 우리의 코드를 저장하고 다시 사용할 수 있도록 만들어줌"
      ],
      "metadata": {
        "id": "MJ4ZjDneCxnN"
      }
    },
    {
      "cell_type": "code",
      "source": [
        "# __str__ 추가한 경우\n",
        "\n",
        "\n",
        "class GuardDog:\n",
        "\n",
        "  # 지금 코드에서 너무 반복적인게 보임 ▶️ 이 때 'inheritance'가 제역할을 할 때!\n",
        "  def __init__(self,name, breed):\n",
        "    self.name = name\n",
        "    self.age = \"5 years old\"\n",
        "    self.breed = breed\n",
        "\n",
        "  def rrr(self):\n",
        "    print(\"Stay away!\")\n",
        "\n",
        "\n",
        "\n",
        "class Puppy:\n",
        "\n",
        "  def __init__(self, name, breed):\n",
        "    self.name = name\n",
        "    self.age = \"1 month\"\n",
        "    self.breed = breed\n",
        "\n",
        "  def __str__(self): # 자동으로 Python이 호출해주는 함수\n",
        "    return f\"{self.breed} named {self.name}\" # 데이터에 접근하는 함수\n",
        "\n",
        "  def woof_woof(self):\n",
        "    print(\"Woof! Woof!\")\n",
        "\n",
        "  def introuce(self):\n",
        "    self.woof_woof()\n",
        "    print(f\"My name is {self.name} and I'm a baby {self.breed}\")\n",
        "\n",
        "\n",
        "# 아래에서 ruff와 bibi는 'instance'라고 함\n",
        "# instance: class의 청사진을 활용해 만들어진 object라는 뜻\n",
        "ruff = Puppy(\n",
        "    name = \"Ruff\",\n",
        "    breed = \"Beagle\"\n",
        "    )\n",
        "bibi = Puppy(\n",
        "    name = \"Bibi\",\n",
        "    breed = \"Golden Retriever\"\n",
        "    )\n",
        "\n",
        "\n",
        "print(ruff)\n",
        "print(bibi)\n",
        "\n",
        "\n",
        "print(\"_\"*8)\n",
        "bibi.woof_woof()\n",
        "print(\"_\"*8)\n",
        "bibi.introuce()"
      ],
      "metadata": {
        "colab": {
          "base_uri": "https://localhost:8080/"
        },
        "id": "_vmjj02qBRFU",
        "outputId": "290d3e7f-8221-4213-b856-a268feb2ba80"
      },
      "execution_count": 47,
      "outputs": [
        {
          "output_type": "stream",
          "name": "stdout",
          "text": [
            "Beagle named Ruff\n",
            "Golden Retriever named Bibi\n",
            "________\n",
            "Woof! Woof!\n",
            "________\n",
            "Woof! Woof!\n",
            "My name is Bibi and I'm a baby Golden Retriever\n"
          ]
        }
      ]
    },
    {
      "cell_type": "markdown",
      "source": [
        "## 5.5 Inheritance (Part 2)\n",
        "- **super()**: 부모의 class를 참조한다는 뜻, 많이 사용함!\n",
        "- super()를 사용해서 부모의 method를 상속받지만, 자체의 property와 method를 받을 수 있음!"
      ],
      "metadata": {
        "id": "akL41mTjKLRw"
      }
    },
    {
      "cell_type": "code",
      "source": [
        "class Dog:\n",
        "\n",
        "  def __init__(self, name, breed, age):\n",
        "    self.name = name\n",
        "    self.age = age\n",
        "    self.breed = breed\n",
        "\n",
        "  def sleep(self):\n",
        "    print(\"zzz...\")\n",
        "\n",
        "\n",
        "\n",
        "class GuardDog(Dog): # 여기에 'Dog' 를 넣어주면서 상속관계임을 표현\n",
        "\n",
        "  def rrr(self):\n",
        "    print(\"Stay away!\")\n",
        "\n",
        "\n",
        "\n",
        "class Puppy(Dog): # 여기에 'Dog' 를 넣어주면서 상속관계임을 표현\n",
        "\n",
        "  def __init__(self, name, breed):\n",
        "    super().__init__(name, breed) # 부모의 class를 참조한다는 뜻\n",
        "\n",
        "\n",
        "  def woof_woof(self):\n",
        "    print(\"Woof! Woof!\")\n",
        "\n",
        "\n",
        "# 아래에서 ruff와 bibi는 'instance'라고 함\n",
        "# instance: class의 청사진을 활용해 만들어진 object라는 뜻\n",
        "ruff = GuardDog(\n",
        "    name = \"Ruff\",\n",
        "    breed = \"Beagle\"\n",
        "    )\n",
        "\n",
        "bibi = Puppy(\n",
        "    name = \"Bibi\",\n",
        "    breed = \"Golden Retriever\"\n",
        "    )\n",
        "\n",
        "\n",
        "ruff.name\n",
        "bibi.name"
      ],
      "metadata": {
        "colab": {
          "base_uri": "https://localhost:8080/",
          "height": 216
        },
        "id": "um7g1Ge1KFmt",
        "outputId": "81ccd69a-fda7-42aa-da43-6514d0e5a260"
      },
      "execution_count": 6,
      "outputs": [
        {
          "output_type": "error",
          "ename": "TypeError",
          "evalue": "Dog.__init__() missing 1 required positional argument: 'age'",
          "traceback": [
            "\u001b[0;31m---------------------------------------------------------------------------\u001b[0m",
            "\u001b[0;31mTypeError\u001b[0m                                 Traceback (most recent call last)",
            "\u001b[0;32m/tmp/ipython-input-1254647051.py\u001b[0m in \u001b[0;36m<cell line: 0>\u001b[0;34m()\u001b[0m\n\u001b[1;32m     30\u001b[0m \u001b[0;31m# 아래에서 ruff와 bibi는 'instance'라고 함\u001b[0m\u001b[0;34m\u001b[0m\u001b[0;34m\u001b[0m\u001b[0m\n\u001b[1;32m     31\u001b[0m \u001b[0;31m# instance: class의 청사진을 활용해 만들어진 object라는 뜻\u001b[0m\u001b[0;34m\u001b[0m\u001b[0;34m\u001b[0m\u001b[0m\n\u001b[0;32m---> 32\u001b[0;31m ruff = GuardDog(\n\u001b[0m\u001b[1;32m     33\u001b[0m     \u001b[0mname\u001b[0m \u001b[0;34m=\u001b[0m \u001b[0;34m\"Ruff\"\u001b[0m\u001b[0;34m,\u001b[0m\u001b[0;34m\u001b[0m\u001b[0;34m\u001b[0m\u001b[0m\n\u001b[1;32m     34\u001b[0m     \u001b[0mbreed\u001b[0m \u001b[0;34m=\u001b[0m \u001b[0;34m\"Beagle\"\u001b[0m\u001b[0;34m\u001b[0m\u001b[0;34m\u001b[0m\u001b[0m\n",
            "\u001b[0;31mTypeError\u001b[0m: Dog.__init__() missing 1 required positional argument: 'age'"
          ]
        }
      ]
    },
    {
      "cell_type": "code",
      "source": [
        "# 위에서 발생하는 'age' 오류 해결한 코드\n",
        "\n",
        "\n",
        "class Dog:\n",
        "\n",
        "  def __init__(self, name, breed, age):\n",
        "    self.name = name\n",
        "    self.age = age\n",
        "    self.breed = breed\n",
        "\n",
        "  def sleep(self):\n",
        "    print(\"zzz...\")\n",
        "\n",
        "\n",
        "\n",
        "class GuardDog(Dog): # 여기에 'Dog' 를 넣어주면서 상속관계임을 표현\n",
        "\n",
        "  def __init__(self, name, breed):\n",
        "    super().__init__(\n",
        "        name,\n",
        "        breed,\n",
        "        5)\n",
        "    self.aggresive = True\n",
        "\n",
        "  def rrr(self):\n",
        "    print(\"Stay away!\")\n",
        "\n",
        "\n",
        "\n",
        "class Puppy(Dog): # 여기에 'Dog' 를 넣어주면서 상속관계임을 표현\n",
        "\n",
        "  def __init__(self, name, breed):\n",
        "    super().__init__(\n",
        "        name,\n",
        "        breed,\n",
        "        0.1)\n",
        "    self.cute = True\n",
        "    # super(): 부모의 class를 참조한다는 뜻\n",
        "    # 바깥세상에서 받아온 name, breed만 참조한다는 뜻\n",
        "\n",
        "\n",
        "  def woof_woof(self):\n",
        "    print(\"Woof! Woof!\")\n",
        "\n",
        "\n",
        "# 아래에서 ruff와 bibi는 'instance'라고 함\n",
        "# instance: class의 청사진을 활용해 만들어진 object라는 뜻\n",
        "ruff = GuardDog(\n",
        "    name = \"Ruff\",\n",
        "    breed = \"Beagle\"\n",
        "    )\n",
        "\n",
        "bibi = Puppy(\n",
        "    name = \"Bibi\",\n",
        "    breed = \"Golden Retriever\"\n",
        "    )\n",
        "\n",
        "\n",
        "print(ruff.name)\n",
        "print(bibi.name)\n",
        "print(\"_\"*8)\n",
        "ruff.sleep() # Dog class에서 상속받았기 때문에, 가능한 것\n",
        "print(f\"{ruff.name}'s aggresion: \", ruff.aggresive)"
      ],
      "metadata": {
        "colab": {
          "base_uri": "https://localhost:8080/"
        },
        "id": "9TdXETiwttG-",
        "outputId": "18a00cb5-a73d-44f9-8cca-f37989ed8a7f"
      },
      "execution_count": 18,
      "outputs": [
        {
          "output_type": "stream",
          "name": "stdout",
          "text": [
            "Ruff\n",
            "Bibi\n",
            "________\n",
            "zzz...\n",
            "Ruff's aggresion:  True\n"
          ]
        }
      ]
    },
    {
      "cell_type": "markdown",
      "source": [
        "## 5.7 Code Challenge"
      ],
      "metadata": {
        "id": "53kA5dMTxnaz"
      }
    },
    {
      "cell_type": "code",
      "source": [
        "class Player:\n",
        "\n",
        "  def __init__(self, name, team):\n",
        "    self.name = name\n",
        "    self.xp = 1500\n",
        "    self.team = team\n",
        "\n",
        "  def introduce(self):\n",
        "    print(f\"Hi there! I'm {self.name}, and I play for {self.team}\")\n",
        "\n",
        "\n",
        "leena = Player(\n",
        "    name = \"Leena\",\n",
        "    team = \"Team Y\"\n",
        "    )\n",
        "\n",
        "jamie = Player(\n",
        "    name = \"Jamie\",\n",
        "    team = \"Team X\"\n",
        ")\n",
        "\n",
        "Laura = Player(\n",
        "    name = \"Laura\",\n",
        "    team = \"Team Z\"\n",
        ")\n",
        "\n",
        "leena.introduce()\n",
        "jamie.introduce()"
      ],
      "metadata": {
        "colab": {
          "base_uri": "https://localhost:8080/"
        },
        "id": "UtqjGXeCxpju",
        "outputId": "25321979-1b69-4b47-c8b6-b96d7ba3f59f"
      },
      "execution_count": 27,
      "outputs": [
        {
          "output_type": "stream",
          "name": "stdout",
          "text": [
            "Hi there! I'm Leena, and I play for Team Y\n",
            "Hi there! I'm Jamie, and I play for Team X\n"
          ]
        }
      ]
    },
    {
      "cell_type": "code",
      "source": [
        "# class Team을 만든다면?\n",
        "class Player:\n",
        "\n",
        "  def __init__(self, name, team):\n",
        "    self.name = name\n",
        "    self.xp = 1500\n",
        "    self.team = team\n",
        "\n",
        "  def introduce(self):\n",
        "    print(f\"Hi there! I'm {self.name}, and I play for {self.team}\")\n",
        "\n",
        "\n",
        "class Team:\n",
        "\n",
        "  def __init__(self, team_name):\n",
        "    self.team_name = team_name\n",
        "    self.players = []\n",
        "\n",
        "  def add_player(self, name):\n",
        "    new_player = Player(name, self.team_name)\n",
        "    self.players.append(new_player)\n",
        "\n",
        "\n",
        "\n",
        "team_x = Team(team_name = \"Team X\")\n",
        "team_y = Team(team_name = \"Team Y\")\n",
        "team_z = Team(team_name = \"Team Z\")\n",
        "\n",
        "team_x.add_player(\"Leena\")\n",
        "team_y.add_player(\"Jamie\")\n",
        "team_z.add_player(\"Laura\")\n",
        "\n",
        "print(team_x.players)"
      ],
      "metadata": {
        "colab": {
          "base_uri": "https://localhost:8080/"
        },
        "id": "1116j2Lbx-9N",
        "outputId": "475e77bb-9b38-42bc-e1dd-bb8d4a9f1c13"
      },
      "execution_count": 36,
      "outputs": [
        {
          "output_type": "stream",
          "name": "stdout",
          "text": [
            "[<__main__.Player object at 0x7e5234a1e120>]\n"
          ]
        }
      ]
    },
    {
      "cell_type": "code",
      "source": [
        "# 위에서 print(team_x.players)를 했을 때 예쁘지 않게 나오는 문제를 해결해보기\n",
        "# show_players 함수 추가\n",
        "\n",
        "class Player:\n",
        "\n",
        "  def __init__(self, name, team):\n",
        "    self.name = name\n",
        "    self.xp = 1500\n",
        "    self.team = team\n",
        "\n",
        "  def introduce(self):\n",
        "    print(f\"Hi there! I'm {self.name}, and I play for {self.team}\")\n",
        "\n",
        "\n",
        "class Team:\n",
        "\n",
        "  def __init__(self, team_name):\n",
        "    self.team_name = team_name\n",
        "    self.players = []\n",
        "\n",
        "\n",
        "  def add_player(self, name):\n",
        "    new_player = Player(name, self.team_name) # Player 클래스에 Player 객체를 생성\n",
        "    self.players.append(new_player) # new_player라는 명단에 추가\n",
        "\n",
        "\n",
        "  def show_players(self):\n",
        "    for player in self.players: # 명단을 열어서 이력서를 한 장씩 꺼내기\n",
        "      player.introduce()\n",
        "      # add_player method와 연결된 상태기 때문에, 여기서의 player는 그냥 변수가 아니고 Player class로 만들어진 *모든 정보와 기능을 가진 객체*임!\n",
        "      # ✓ Team class는 Player의 정보를 직접 갖는게 아니라, Player class로 만들어진 객체(Object) 자체를 리스트에 보관하고 있다가, 필요할 때 그 객체를 꺼내서 일을 시키는 구조!\n",
        "\n",
        "team_x = Team(team_name = \"Team X\") # Team X라는 텅 빈 폴더 (Team 객체)를 생성\n",
        "team_y = Team(team_name = \"Team Y\")\n",
        "team_z = Team(team_name = \"Team Z\")\n",
        "\n",
        "team_x.add_player(\"Leena\")\n",
        "team_y.add_player(\"Jamie\")\n",
        "team_z.add_player(\"Laura\")\n",
        "team_z.add_player(\"Jason\")\n",
        "\n",
        "team_x.show_players()\n",
        "print(\"_\"*8)\n",
        "team_y.show_players()\n",
        "print(\"_\"*8)\n",
        "team_z.show_players()"
      ],
      "metadata": {
        "colab": {
          "base_uri": "https://localhost:8080/"
        },
        "id": "8IVSPNzvyCM_",
        "outputId": "279279b4-dae3-4d2d-d030-fd34ce101bcc"
      },
      "execution_count": 42,
      "outputs": [
        {
          "output_type": "stream",
          "name": "stdout",
          "text": [
            "Hi there! I'm Leena, and I play for Team X\n",
            "________\n",
            "Hi there! I'm Jamie, and I play for Team Y\n",
            "________\n",
            "Hi there! I'm Laura, and I play for Team Z\n",
            "Hi there! I'm Jason, and I play for Team Z\n"
          ]
        }
      ]
    },
    {
      "cell_type": "markdown",
      "source": [
        "- 위 코드는 **'포함 (Composition)'** 관계로, 상속과 다른 개념\n",
        "\n",
        "- cf) 객체 (Object) / 인스턴스 (Instance): 클래스라는 설계도로 만들어낸 *실체*\n",
        "  - 클래스 (Class): 설계도\n",
        "\n",
        "    ex) *붕어빵 틀*\n",
        "  - 객체 (Object): Class라는 설계도로 만든 모든 실체를 포괄적으로 부르는 일반적인 용어\n",
        "  \n",
        "    ex)*'붕어빵' 그 자체*\n",
        "  - 인스턴스 (Instance): 그 실체가 어떤 클래스로부터 만들어진건지, 그 관계에 초점을 맞춘 것\n",
        "  \n",
        "    ex)*붕어빵은 붕어빵인데, '이 붕어빵은 저 붕어빵 틀로 만든거야'라고 출신(설계도)를 강조해서 부를 때 사용*\n",
        "\n",
        "- 위 차이를 알아둔다면, 소통이 원활해질 수 있음!\n",
        "  - ex) 이 객체가 Player class의 인스턴스가 맞는지 확인해주세요 == 이 객체의 출신이 그 class가 맞는지 확인하면 되는구나!"
      ],
      "metadata": {
        "id": "azfoRH00FIqd"
      }
    },
    {
      "cell_type": "code",
      "source": [
        "# 참고\n",
        "\n",
        "class Player:\n",
        "  def __init__(self, team, name):\n",
        "    self.name = name\n",
        "    self.team = team\n",
        "\n",
        "leena = Player(\n",
        "    name = \"Leena\",\n",
        "    team = \"Team X\"\n",
        ")\n",
        "\n",
        "jamie = Player(\n",
        "    name = \"Jamie\",\n",
        "    team = \"Team Y\"\n",
        ")\n",
        "\n",
        "# leena는 '객체 (object)' 이다 (O)\n",
        "# leena는 Player class의 '인스턴스 (instance)'이다 (O)\n",
        "# jamie는 Player class의 '인스턴스 (instance)' 이다 (O)\n",
        "# leena와 jamie는 둘 다 Player class의 instance이며, 서로 다른 객체이다 (O)"
      ],
      "metadata": {
        "id": "vh0OWKZJQPkE"
      },
      "execution_count": 44,
      "outputs": []
    },
    {
      "cell_type": "markdown",
      "source": [
        "### Code Challenge"
      ],
      "metadata": {
        "id": "Ue0EaGdXCsEt"
      }
    },
    {
      "cell_type": "code",
      "source": [
        "## first try\n",
        "\n",
        "# 1. Player를 삭제하는 method 만들어보기\n",
        "# 2. Team class에 팀의 XP의 총합을 보여주는 method 만들기\n",
        "\n",
        "class Player:\n",
        "\n",
        "  def __init__(self, name, team):\n",
        "    self.name = name\n",
        "    self.xp = 1500\n",
        "    self.team = team\n",
        "\n",
        "  def introduce(self):\n",
        "    print(f\"Hi there! I'm {self.name}, and I play for {self.team}\")\n",
        "\n",
        "\n",
        "class Team:\n",
        "\n",
        "  def __init__(self, team_name):\n",
        "    self.team_name = team_name\n",
        "    self.players = []\n",
        "\n",
        "  def show_players(self):\n",
        "    for player in self.players:\n",
        "      player.introduce()\n",
        "\n",
        "  def add_player(self, name):\n",
        "    new_player = Player(name, self.team_name)\n",
        "    self.players.append(new_player)\n",
        "\n",
        "  # challenge part\n",
        "  def remove_player(self, name):\n",
        "    self.players.remove(name)\n",
        "\n",
        "\n",
        "team_x = Team(team_name = \"Team X\")\n",
        "team_y = Team(team_name = \"Team Y\")\n",
        "team_z = Team(team_name = \"Team Z\")\n",
        "\n",
        "team_x.add_player(\"Leena\")\n",
        "team_y.add_player(\"Jamie\")\n",
        "team_z.add_player(\"Laura\")\n",
        "team_z.add_player(\"Jason\")\n",
        "\n",
        "team_x.show_players()\n",
        "print(\"_\"*8)\n",
        "team_y.show_players()\n",
        "print(\"_\"*8)\n",
        "team_z.show_players()\n",
        "print(\"_\"*8)\n",
        "team_z.remove_player(\"Jason\")\n",
        "team_z.show_players()"
      ],
      "metadata": {
        "colab": {
          "base_uri": "https://localhost:8080/",
          "height": 448
        },
        "id": "puiTCc2jfFtH",
        "outputId": "2eef931f-b661-414b-e579-5bb13f4c98b4"
      },
      "execution_count": 54,
      "outputs": [
        {
          "output_type": "stream",
          "name": "stdout",
          "text": [
            "Hi there! I'm Leena, and I play for Team X\n",
            "________\n",
            "Hi there! I'm Jamie, and I play for Team Y\n",
            "________\n",
            "Hi there! I'm Laura, and I play for Team Z\n",
            "Hi there! I'm Jason, and I play for Team Z\n",
            "________\n"
          ]
        },
        {
          "output_type": "error",
          "ename": "ValueError",
          "evalue": "list.remove(x): x not in list",
          "traceback": [
            "\u001b[0;31m---------------------------------------------------------------------------\u001b[0m",
            "\u001b[0;31mValueError\u001b[0m                                Traceback (most recent call last)",
            "\u001b[0;32m/tmp/ipython-input-2090415902.py\u001b[0m in \u001b[0;36m<cell line: 0>\u001b[0;34m()\u001b[0m\n\u001b[1;32m     47\u001b[0m \u001b[0mteam_z\u001b[0m\u001b[0;34m.\u001b[0m\u001b[0mshow_players\u001b[0m\u001b[0;34m(\u001b[0m\u001b[0;34m)\u001b[0m\u001b[0;34m\u001b[0m\u001b[0;34m\u001b[0m\u001b[0m\n\u001b[1;32m     48\u001b[0m \u001b[0mprint\u001b[0m\u001b[0;34m(\u001b[0m\u001b[0;34m\"_\"\u001b[0m\u001b[0;34m*\u001b[0m\u001b[0;36m8\u001b[0m\u001b[0;34m)\u001b[0m\u001b[0;34m\u001b[0m\u001b[0;34m\u001b[0m\u001b[0m\n\u001b[0;32m---> 49\u001b[0;31m \u001b[0mteam_z\u001b[0m\u001b[0;34m.\u001b[0m\u001b[0mremove_player\u001b[0m\u001b[0;34m(\u001b[0m\u001b[0;34m\"Jason\"\u001b[0m\u001b[0;34m)\u001b[0m\u001b[0;34m\u001b[0m\u001b[0;34m\u001b[0m\u001b[0m\n\u001b[0m\u001b[1;32m     50\u001b[0m \u001b[0mteam_z\u001b[0m\u001b[0;34m.\u001b[0m\u001b[0mshow_players\u001b[0m\u001b[0;34m(\u001b[0m\u001b[0;34m)\u001b[0m\u001b[0;34m\u001b[0m\u001b[0;34m\u001b[0m\u001b[0m\n",
            "\u001b[0;32m/tmp/ipython-input-2090415902.py\u001b[0m in \u001b[0;36mremove_player\u001b[0;34m(self, name)\u001b[0m\n\u001b[1;32m     29\u001b[0m   \u001b[0;31m# challenge part\u001b[0m\u001b[0;34m\u001b[0m\u001b[0;34m\u001b[0m\u001b[0m\n\u001b[1;32m     30\u001b[0m   \u001b[0;32mdef\u001b[0m \u001b[0mremove_player\u001b[0m\u001b[0;34m(\u001b[0m\u001b[0mself\u001b[0m\u001b[0;34m,\u001b[0m \u001b[0mname\u001b[0m\u001b[0;34m)\u001b[0m\u001b[0;34m:\u001b[0m\u001b[0;34m\u001b[0m\u001b[0;34m\u001b[0m\u001b[0m\n\u001b[0;32m---> 31\u001b[0;31m     \u001b[0mself\u001b[0m\u001b[0;34m.\u001b[0m\u001b[0mplayers\u001b[0m\u001b[0;34m.\u001b[0m\u001b[0mremove\u001b[0m\u001b[0;34m(\u001b[0m\u001b[0mname\u001b[0m\u001b[0;34m)\u001b[0m\u001b[0;34m\u001b[0m\u001b[0;34m\u001b[0m\u001b[0m\n\u001b[0m\u001b[1;32m     32\u001b[0m \u001b[0;34m\u001b[0m\u001b[0m\n\u001b[1;32m     33\u001b[0m \u001b[0;34m\u001b[0m\u001b[0m\n",
            "\u001b[0;31mValueError\u001b[0m: list.remove(x): x not in list"
          ]
        }
      ]
    },
    {
      "cell_type": "code",
      "source": [
        "## second try\n",
        "\n",
        "# 1. Player를 삭제하는 method 만들어보기\n",
        "# 2. Team class에 팀의 XP의 총합을 보여주는 method 만들기\n",
        "\n",
        "class Player:\n",
        "\n",
        "  def __init__(self, name, team):\n",
        "    self.name = name\n",
        "    self.xp = 1500\n",
        "    self.team = team\n",
        "\n",
        "  def introduce(self):\n",
        "    print(f\"Hi there! I'm {self.name}, and I play for {self.team}\")\n",
        "\n",
        "\n",
        "class Team:\n",
        "\n",
        "  def __init__(self, team_name):\n",
        "    self.team_name = team_name\n",
        "    self.players = []\n",
        "\n",
        "  def show_players(self):\n",
        "    for player in self.players:\n",
        "      player.introduce()\n",
        "\n",
        "  def add_player(self, name):\n",
        "    new_player = Player(name, self.team_name)\n",
        "    self.players.append(new_player)\n",
        "\n",
        "  # challenge part\n",
        "  def remove_player(self, name):\n",
        "    for player in self.players:\n",
        "      if player.name == player:\n",
        "        self.players.remove(player)\n",
        "        print(f\"{player} has been removed from the team!\")\n",
        "\n",
        "      else:\n",
        "        print(f\"{player} is not in the team.\")\n",
        "\n",
        "\n",
        "team_x = Team(team_name = \"Team X\")\n",
        "team_y = Team(team_name = \"Team Y\")\n",
        "team_z = Team(team_name = \"Team Z\")\n",
        "\n",
        "team_x.add_player(\"Leena\")\n",
        "team_y.add_player(\"Jamie\")\n",
        "team_z.add_player(\"Laura\")\n",
        "team_z.add_player(\"Jason\")\n",
        "\n",
        "team_x.show_players()\n",
        "print(\"_\"*8)\n",
        "team_y.show_players()\n",
        "print(\"_\"*8)\n",
        "team_z.show_players()\n",
        "print(\"_\"*8)\n",
        "team_z.remove_player(\"Jason\")\n",
        "team_z.show_players()"
      ],
      "metadata": {
        "colab": {
          "base_uri": "https://localhost:8080/"
        },
        "id": "qKdBFGRyCATu",
        "outputId": "28c2a9d6-1b19-4d9e-e893-419907e4664e"
      },
      "execution_count": 53,
      "outputs": [
        {
          "output_type": "stream",
          "name": "stdout",
          "text": [
            "Hi there! I'm Leena, and I play for Team X\n",
            "________\n",
            "Hi there! I'm Jamie, and I play for Team Y\n",
            "________\n",
            "Hi there! I'm Laura, and I play for Team Z\n",
            "Hi there! I'm Jason, and I play for Team Z\n",
            "________\n",
            "<__main__.Player object at 0x7e5234cdba40> is not in the team.\n",
            "<__main__.Player object at 0x7e52346fe300> is not in the team.\n",
            "Hi there! I'm Laura, and I play for Team Z\n",
            "Hi there! I'm Jason, and I play for Team Z\n"
          ]
        }
      ]
    },
    {
      "cell_type": "code",
      "source": [
        "## third try\n",
        "\n",
        "# 1. Player를 삭제하는 method 만들어보기\n",
        "# 2. Team class에 팀의 XP의 총합을 보여주는 method 만들기\n",
        "\n",
        "class Player:\n",
        "\n",
        "  def __init__(self, name, team):\n",
        "    self.name = name\n",
        "    self.xp = 1500\n",
        "    self.team = team\n",
        "\n",
        "  def introduce(self):\n",
        "    print(f\"Hi there! I'm {self.name}, and I play for {self.team}\")\n",
        "\n",
        "\n",
        "class Team:\n",
        "\n",
        "  def __init__(self, team_name):\n",
        "    self.team_name = team_name\n",
        "    self.players = []\n",
        "\n",
        "  def show_players(self):\n",
        "    for player in self.players:\n",
        "      player.introduce()\n",
        "\n",
        "  def add_player(self, name):\n",
        "    new_player = Player(name, self.team_name)\n",
        "    self.players.append(new_player)\n",
        "\n",
        "  # challenge part\n",
        "  def remove_player(self, name):\n",
        "    for player in self.players:\n",
        "      if player.name == name:\n",
        "        found_player = player\n",
        "        break\n",
        "\n",
        "    if found_player:\n",
        "        self.players.remove(found_player)\n",
        "        print(f\"{found_player} has been removed from the team!\")\n",
        "\n",
        "    else:\n",
        "      print(f\"{found_player} is not in the team.\")\n",
        "\n",
        "\n",
        "team_x = Team(team_name = \"Team X\")\n",
        "team_y = Team(team_name = \"Team Y\")\n",
        "team_z = Team(team_name = \"Team Z\")\n",
        "\n",
        "team_x.add_player(\"Leena\")\n",
        "team_y.add_player(\"Jamie\")\n",
        "team_z.add_player(\"Laura\")\n",
        "team_z.add_player(\"Jason\")\n",
        "\n",
        "team_x.show_players()\n",
        "print(\"_\"*8)\n",
        "team_y.show_players()\n",
        "print(\"_\"*8)\n",
        "team_z.show_players()\n",
        "print(\"_\"*8)\n",
        "team_z.remove_player(\"Jason\")\n",
        "team_z.show_players()"
      ],
      "metadata": {
        "colab": {
          "base_uri": "https://localhost:8080/"
        },
        "id": "0i921jUjaNfR",
        "outputId": "ef840a03-67c1-469b-f1c7-7a07ff09fe23"
      },
      "execution_count": 59,
      "outputs": [
        {
          "output_type": "stream",
          "name": "stdout",
          "text": [
            "Hi there! I'm Leena, and I play for Team X\n",
            "________\n",
            "Hi there! I'm Jamie, and I play for Team Y\n",
            "________\n",
            "Hi there! I'm Laura, and I play for Team Z\n",
            "Hi there! I'm Jason, and I play for Team Z\n",
            "________\n",
            "<__main__.Player object at 0x7e52346ffc20> has been removed from the team!\n",
            "Hi there! I'm Laura, and I play for Team Z\n"
          ]
        }
      ]
    },
    {
      "cell_type": "code",
      "source": [
        "## fourth try\n",
        "\n",
        "# 1. Player를 삭제하는 method 만들어보기\n",
        "# 2. Team class에 팀의 XP의 총합을 보여주는 method 만들기\n",
        "\n",
        "class Player:\n",
        "\n",
        "  def __init__(self, name, team):\n",
        "    self.name = name\n",
        "    self.xp = 1500\n",
        "    self.team = team\n",
        "\n",
        "  def introduce(self):\n",
        "    print(f\"Hi there! I'm {self.name}, and I play for {self.team}\")\n",
        "\n",
        "\n",
        "class Team:\n",
        "\n",
        "  def __init__(self, team_name):\n",
        "    self.team_name = team_name\n",
        "    self.players = []\n",
        "\n",
        "  def add_player(self, name):\n",
        "    new_player = Player(name, self.team_name)\n",
        "    self.players.append(new_player)\n",
        "\n",
        "  def show_players(self):\n",
        "    for player in self.players:\n",
        "      player.introduce()\n",
        "\n",
        "  def __len__(self):\n",
        "    return len(self.players)\n",
        "\n",
        "  # challenge part\n",
        "  def remove_player(self, name):\n",
        "    for player in self.players:\n",
        "      if player.name == name:\n",
        "        found_player = player\n",
        "        break\n",
        "\n",
        "    if found_player:\n",
        "        self.players.remove(found_player)\n",
        "        print(f\"{found_player.name} has been removed from the team!\")\n",
        "\n",
        "    else:\n",
        "      print(f\"{found_player} is not in the team.\")\n",
        "\n",
        "\n",
        "  def xp_total(self):\n",
        "\n",
        "    total_xp = 0\n",
        "    for player in self.players:\n",
        "      total_xp += player.xp\n",
        "\n",
        "    return total_xp\n",
        "\n",
        "\n",
        "\n",
        "team_x = Team(team_name = \"Team X\")\n",
        "team_y = Team(team_name = \"Team Y\")\n",
        "team_z = Team(team_name = \"Team Z\")\n",
        "\n",
        "team_x.add_player(\"Leena\")\n",
        "team_y.add_player(\"Jamie\")\n",
        "team_z.add_player(\"Laura\")\n",
        "team_z.add_player(\"Jason\")\n",
        "team_z.add_player(\"Kiki\")\n",
        "\n",
        "team_x.show_players()\n",
        "print(\"_\"*8)\n",
        "team_y.show_players()\n",
        "print(\"_\"*8)\n",
        "team_z.show_players()\n",
        "print(\"_\"*8)\n",
        "# team_z.remove_player(\"Jason\")\n",
        "# team_z.show_players()\n",
        "print(f\"{team_z.team_name}의 팀원 수: {len(team_z)}명\")\n",
        "team_z.xp_total()"
      ],
      "metadata": {
        "colab": {
          "base_uri": "https://localhost:8080/"
        },
        "id": "XpxMb9ZUf5eI",
        "outputId": "66bb8d51-2085-43bf-8404-5a01de633330"
      },
      "execution_count": 72,
      "outputs": [
        {
          "output_type": "stream",
          "name": "stdout",
          "text": [
            "Hi there! I'm Leena, and I play for Team X\n",
            "________\n",
            "Hi there! I'm Jamie, and I play for Team Y\n",
            "________\n",
            "Hi there! I'm Laura, and I play for Team Z\n",
            "Hi there! I'm Jason, and I play for Team Z\n",
            "Hi there! I'm Kiki, and I play for Team Z\n",
            "________\n",
            "Team Z의 팀원 수: 3명\n"
          ]
        },
        {
          "output_type": "execute_result",
          "data": {
            "text/plain": [
              "4500"
            ]
          },
          "metadata": {},
          "execution_count": 72
        }
      ]
    }
  ]
}