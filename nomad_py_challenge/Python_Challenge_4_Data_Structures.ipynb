{
  "nbformat": 4,
  "nbformat_minor": 0,
  "metadata": {
    "colab": {
      "provenance": [],
      "authorship_tag": "ABX9TyPD7uH8WlUrBRyXUaL+bKub",
      "include_colab_link": true
    },
    "kernelspec": {
      "name": "python3",
      "display_name": "Python 3"
    },
    "language_info": {
      "name": "python"
    }
  },
  "cells": [
    {
      "cell_type": "markdown",
      "metadata": {
        "id": "view-in-github",
        "colab_type": "text"
      },
      "source": [
        "<a href=\"https://colab.research.google.com/github/blooming-daisy/nomad_coder_project/blob/master/python_challenge/Python_Challenge_4_Data_Structures.ipynb\" target=\"_parent\"><img src=\"https://colab.research.google.com/assets/colab-badge.svg\" alt=\"Open In Colab\"/></a>"
      ]
    },
    {
      "cell_type": "markdown",
      "source": [
        "## 4.0 Methods\n",
        "- 데이터 뒤에 결합/연결된 function\n",
        "- 데이터와 엮여서 작동하기 때문에, 단독 호출은 할 수 없음"
      ],
      "metadata": {
        "id": "aZjJHfouztVD"
      }
    },
    {
      "cell_type": "code",
      "source": [
        "name = \"lEeNa\"\n",
        "\n",
        "print(name.upper())\n",
        "print(name.lower())\n",
        "print(name.capitalize())\n",
        "print(name.startswith('n'))\n",
        "print(name.replace('a','o'))\n",
        "print(name.endswith('a'))\n",
        "print(name.isupper())"
      ],
      "metadata": {
        "colab": {
          "base_uri": "https://localhost:8080/"
        },
        "id": "FJLT1hLfxqCf",
        "outputId": "40a5e30f-2b1f-41c1-da0f-bc23b2ce03a2"
      },
      "execution_count": null,
      "outputs": [
        {
          "output_type": "stream",
          "name": "stdout",
          "text": [
            "LEENA\n",
            "leena\n",
            "Leena\n",
            "False\n",
            "lEeNo\n",
            "True\n",
            "False\n"
          ]
        }
      ]
    },
    {
      "cell_type": "markdown",
      "source": [
        "## 4.1 Lists"
      ],
      "metadata": {
        "id": "q-MUhXil15ud"
      }
    },
    {
      "cell_type": "code",
      "source": [
        "days_of_week = ['Mon','Tue','Wed','Thur','Fri','Sat','Sun']\n",
        "\n",
        "print(days_of_week.count(\"Wed\"))\n",
        "print(days_of_week.clear()) # 리스트 안에 있는 아이템을 mutating함\n",
        "print(days_of_week)\n",
        "\n",
        "days_of_another_week = ['Mon','Tue','Wed','Thur','Fri']\n",
        "days_of_another_week.reverse() # 이 메서드는 리스트를 그 자리(in-place)에서 뒤집고 아무것도 반환하지 않기 때문에, print() 처리를 하면 None이 return 되는 것!\n",
        "print(days_of_another_week)\n",
        "\n",
        "days_of_another_week.append(['Sat', 'Sun'])\n",
        "print(days_of_another_week)\n",
        "\n",
        "days_of_another_week.extend(['Sat', 'Sun']) #리스트 안에 있는 리스트를 밖으로 꺼내는 메소드\n",
        "print(days_of_another_week)\n",
        "\n",
        "days_of_another_week.remove(['Sat','Sun'])\n",
        "print(days_of_another_week)"
      ],
      "metadata": {
        "colab": {
          "base_uri": "https://localhost:8080/"
        },
        "id": "bkQ_aO6l0Tl9",
        "outputId": "02ce9294-22f4-4d8c-8f10-a3e7def17a1e"
      },
      "execution_count": null,
      "outputs": [
        {
          "output_type": "stream",
          "name": "stdout",
          "text": [
            "1\n",
            "None\n",
            "[]\n",
            "['Fri', 'Thur', 'Wed', 'Tue', 'Mon']\n",
            "['Fri', 'Thur', 'Wed', 'Tue', 'Mon', ['Sat', 'Sun']]\n",
            "['Fri', 'Thur', 'Wed', 'Tue', 'Mon', ['Sat', 'Sun'], 'Sat', 'Sun']\n",
            "['Fri', 'Thur', 'Wed', 'Tue', 'Mon', 'Sat', 'Sun']\n"
          ]
        }
      ]
    },
    {
      "cell_type": "code",
      "source": [
        "name = [\"Leena\", \"Jason\", \"Tommy\", \"Lisa\"]\n",
        "name[0]"
      ],
      "metadata": {
        "colab": {
          "base_uri": "https://localhost:8080/",
          "height": 36
        },
        "id": "UYKL0BVf6Y6n",
        "outputId": "1b444f4d-a82d-41fc-9780-a170c9b47b7c"
      },
      "execution_count": null,
      "outputs": [
        {
          "output_type": "execute_result",
          "data": {
            "text/plain": [
              "'Leena'"
            ],
            "application/vnd.google.colaboratory.intrinsic+json": {
              "type": "string"
            }
          },
          "metadata": {},
          "execution_count": 20
        }
      ]
    },
    {
      "cell_type": "markdown",
      "source": [
        "## 4.2 Tuples\n",
        "- 수정해도 되는 항목들 ▶️ Lists\n",
        "- 수정하면 안되는 항목들 ▶️ Tuples"
      ],
      "metadata": {
        "id": "gynsNt_F6Pr9"
      }
    },
    {
      "cell_type": "code",
      "source": [
        "days_of_week = ('Mon','Tue','Wed','Thur','Fri','Sat','Sun')\n",
        "days.append('Mon') # Can't change the content after you create."
      ],
      "metadata": {
        "colab": {
          "base_uri": "https://localhost:8080/",
          "height": 162
        },
        "id": "wPewAEJL6RSX",
        "outputId": "bd19e584-c6d5-48b9-b8bd-9fed348e0d67"
      },
      "execution_count": null,
      "outputs": [
        {
          "output_type": "error",
          "ename": "NameError",
          "evalue": "name 'days' is not defined",
          "traceback": [
            "\u001b[0;31m---------------------------------------------------------------------------\u001b[0m",
            "\u001b[0;31mNameError\u001b[0m                                 Traceback (most recent call last)",
            "\u001b[0;32m/tmp/ipython-input-2093066574.py\u001b[0m in \u001b[0;36m<cell line: 0>\u001b[0;34m()\u001b[0m\n\u001b[1;32m      1\u001b[0m \u001b[0mdays_of_week\u001b[0m \u001b[0;34m=\u001b[0m \u001b[0;34m(\u001b[0m\u001b[0;34m'Mon'\u001b[0m\u001b[0;34m,\u001b[0m\u001b[0;34m'Tue'\u001b[0m\u001b[0;34m,\u001b[0m\u001b[0;34m'Wed'\u001b[0m\u001b[0;34m,\u001b[0m\u001b[0;34m'Thur'\u001b[0m\u001b[0;34m,\u001b[0m\u001b[0;34m'Fri'\u001b[0m\u001b[0;34m,\u001b[0m\u001b[0;34m'Sat'\u001b[0m\u001b[0;34m,\u001b[0m\u001b[0;34m'Sun'\u001b[0m\u001b[0;34m)\u001b[0m\u001b[0;34m\u001b[0m\u001b[0;34m\u001b[0m\u001b[0m\n\u001b[0;32m----> 2\u001b[0;31m \u001b[0mdays\u001b[0m\u001b[0;34m.\u001b[0m\u001b[0mappend\u001b[0m\u001b[0;34m(\u001b[0m\u001b[0;34m'Mon'\u001b[0m\u001b[0;34m)\u001b[0m\u001b[0;34m\u001b[0m\u001b[0;34m\u001b[0m\u001b[0m\n\u001b[0m",
            "\u001b[0;31mNameError\u001b[0m: name 'days' is not defined"
          ]
        }
      ]
    },
    {
      "cell_type": "code",
      "source": [
        "print(days_of_week.count('Mon'))\n",
        "print(days_of_week[5])\n",
        "print(days_of_week[-1])"
      ],
      "metadata": {
        "colab": {
          "base_uri": "https://localhost:8080/"
        },
        "id": "bJJKoiVS6eGi",
        "outputId": "30d8d6ce-0ea6-488d-c371-5a96bba186de"
      },
      "execution_count": null,
      "outputs": [
        {
          "output_type": "stream",
          "name": "stdout",
          "text": [
            "1\n",
            "Sat\n",
            "Sun\n"
          ]
        }
      ]
    },
    {
      "cell_type": "markdown",
      "source": [
        "## 4.3 Dicts"
      ],
      "metadata": {
        "id": "JKMw3BIu7Pgu"
      }
    },
    {
      "cell_type": "code",
      "source": [
        "player = {\"name\": \"Nico\",\n",
        "          \"age\": 18,\n",
        "          \"alive\": True,\n",
        "          \"fav_food\": [\"🍔\", \"🍕\"]\n",
        "          }\n",
        "\n",
        "print(player)\n",
        "print(\"Name: \", player[\"name\"])\n",
        "print(\"Age: \", player[\"age\"])\n",
        "print(\"Alive or not: \", player[\"alive\"])\n",
        "print(\"Favoriate food\", player.get(\"fav_food\"))"
      ],
      "metadata": {
        "colab": {
          "base_uri": "https://localhost:8080/"
        },
        "id": "U5R89Hyc6oWF",
        "outputId": "a3dbdf7b-29ca-4162-b9fa-06b6d698db38"
      },
      "execution_count": null,
      "outputs": [
        {
          "output_type": "stream",
          "name": "stdout",
          "text": [
            "{'name': 'Nico', 'age': 18, 'alive': True, 'fav_food': ['🍔', '🍕']}\n",
            "Name:  Nico\n",
            "Age:  18\n",
            "Alive or not:  True\n",
            "Favoriate food ['🍔', '🍕']\n"
          ]
        }
      ]
    },
    {
      "cell_type": "code",
      "source": [
        "print(player.get(\"age\"), player['age'])"
      ],
      "metadata": {
        "colab": {
          "base_uri": "https://localhost:8080/"
        },
        "id": "eMNW5dOy7peD",
        "outputId": "8aaf2d65-4e14-43ed-bfb2-ef19dcf9e45d"
      },
      "execution_count": null,
      "outputs": [
        {
          "output_type": "stream",
          "name": "stdout",
          "text": [
            "18 18\n"
          ]
        }
      ]
    },
    {
      "cell_type": "code",
      "source": [
        "print(player)\n",
        "player.pop(\"age\")\n",
        "print(player)"
      ],
      "metadata": {
        "colab": {
          "base_uri": "https://localhost:8080/"
        },
        "id": "FIuVhaxy79Rm",
        "outputId": "d8faf33b-cba9-4084-c0d7-9a83218aead8"
      },
      "execution_count": null,
      "outputs": [
        {
          "output_type": "stream",
          "name": "stdout",
          "text": [
            "{'name': 'Nico', 'age': 18, 'alive': True, 'fav_food': ['🍔', '🍕']}\n",
            "{'name': 'Nico', 'alive': True, 'fav_food': ['🍔', '🍕']}\n"
          ]
        }
      ]
    },
    {
      "cell_type": "code",
      "source": [
        "print(player)\n",
        "player['experience'] = None #\n",
        "print(player)"
      ],
      "metadata": {
        "colab": {
          "base_uri": "https://localhost:8080/"
        },
        "id": "eeiZiFOy8eny",
        "outputId": "5b7eb0f1-ae31-46c6-d446-ed4d550785cd"
      },
      "execution_count": null,
      "outputs": [
        {
          "output_type": "stream",
          "name": "stdout",
          "text": [
            "{'name': 'Nico', 'alive': True, 'fav_food': ['🍔', '🍕']}\n",
            "{'name': 'Nico', 'alive': True, 'fav_food': ['🍔', '🍕'], 'experience': None}\n"
          ]
        }
      ]
    },
    {
      "cell_type": "code",
      "source": [
        "print(player)\n",
        "player['fav_food'].append(\"🍗\") # Dict 안에 있는 list에 append를 하려면, key를 불러서 그 안에 .append를 해주면 된다!\n",
        "print(player.get('fav_food'))"
      ],
      "metadata": {
        "colab": {
          "base_uri": "https://localhost:8080/"
        },
        "id": "qqCgq0xS8mcN",
        "outputId": "ea5dd17a-0b70-4dc9-d155-3d742f6d18ff"
      },
      "execution_count": null,
      "outputs": [
        {
          "output_type": "stream",
          "name": "stdout",
          "text": [
            "{'name': 'Nico', 'alive': True, 'fav_food': ['🍔', '🍕', '🍗'], 'experience': None}\n",
            "['🍔', '🍕', '🍗', '🍗']\n"
          ]
        }
      ]
    },
    {
      "cell_type": "markdown",
      "source": [
        "## 4.5 For loops\n",
        "- 참고: convention tuples or lists를 만들 때, 복수형을 사용한다.\n",
        "- for 뒤에는 단수형을 사용한다.\n",
        "  - eg. for **movie** in **movies**"
      ],
      "metadata": {
        "id": "HA3JWwr10tU5"
      }
    },
    {
      "cell_type": "code",
      "source": [
        "websites = (\n",
        "    \"google.com\",\n",
        "    \"https://airbnb.com\",\n",
        "    \"x.com\",\n",
        "    \"https://yahoo.com\",\n",
        "    \"bing.com\",\n",
        "    \"facebook.com\")"
      ],
      "metadata": {
        "id": "lYVQ5MDt8yqf"
      },
      "execution_count": null,
      "outputs": []
    },
    {
      "cell_type": "code",
      "source": [
        "for website in websites:\n",
        "  print(website)"
      ],
      "metadata": {
        "colab": {
          "base_uri": "https://localhost:8080/"
        },
        "id": "l_9lu-tL055K",
        "outputId": "10d39d7f-1363-43df-e8e6-969dc150ce98"
      },
      "execution_count": null,
      "outputs": [
        {
          "output_type": "stream",
          "name": "stdout",
          "text": [
            "google.com\n",
            "https://airbnb.com\n",
            "x.com\n",
            "https://yahoo.com\n",
            "bing.com\n",
            "facebook.com\n"
          ]
        }
      ]
    },
    {
      "cell_type": "markdown",
      "source": [
        "## 4.6 URL Formatting"
      ],
      "metadata": {
        "id": "UjB6OJ492Qy3"
      }
    },
    {
      "cell_type": "code",
      "source": [
        "for website in websites:\n",
        "  if not website.startswith(\"https://\"):\n",
        "    website = f\"https://www.{website}\"\n",
        "    print(website)"
      ],
      "metadata": {
        "colab": {
          "base_uri": "https://localhost:8080/"
        },
        "id": "NsWdaWVj1AHe",
        "outputId": "86f390bb-7b5e-44f2-ad11-994023f61bb8"
      },
      "execution_count": null,
      "outputs": [
        {
          "output_type": "stream",
          "name": "stdout",
          "text": [
            "https://www.google.com\n",
            "https://www.x.com\n",
            "https://www.bing.com\n",
            "https://www.facebook.com\n"
          ]
        }
      ]
    },
    {
      "cell_type": "markdown",
      "source": [
        "## 4.7 Requests\n",
        "- [Pypi](https://pypi.org/): Python Standard Library에 없는 패키지들 확인"
      ],
      "metadata": {
        "id": "kvoPJuWq2rbv"
      }
    },
    {
      "cell_type": "code",
      "source": [
        "import reqeusts"
      ],
      "metadata": {
        "colab": {
          "base_uri": "https://localhost:8080/",
          "height": 323
        },
        "id": "Wq3k1IMi4EkU",
        "outputId": "15f39e5b-7a41-4f36-ea96-79ff03b79433"
      },
      "execution_count": null,
      "outputs": [
        {
          "output_type": "error",
          "ename": "ModuleNotFoundError",
          "evalue": "No module named 'reqeusts'",
          "traceback": [
            "\u001b[0;31m---------------------------------------------------------------------------\u001b[0m",
            "\u001b[0;31mModuleNotFoundError\u001b[0m                       Traceback (most recent call last)",
            "\u001b[0;32m/tmp/ipython-input-1578715150.py\u001b[0m in \u001b[0;36m<cell line: 0>\u001b[0;34m()\u001b[0m\n\u001b[0;32m----> 1\u001b[0;31m \u001b[0;32mimport\u001b[0m \u001b[0mreqeusts\u001b[0m\u001b[0;34m\u001b[0m\u001b[0;34m\u001b[0m\u001b[0m\n\u001b[0m",
            "\u001b[0;31mModuleNotFoundError\u001b[0m: No module named 'reqeusts'",
            "",
            "\u001b[0;31m---------------------------------------------------------------------------\u001b[0;32m\nNOTE: If your import is failing due to a missing package, you can\nmanually install dependencies using either !pip or !apt.\n\nTo view examples of installing some common dependencies, click the\n\"Open Examples\" button below.\n\u001b[0;31m---------------------------------------------------------------------------\u001b[0m\n"
          ],
          "errorDetails": {
            "actions": [
              {
                "action": "open_url",
                "actionText": "Open Examples",
                "url": "/notebooks/snippets/importing_libraries.ipynb"
              }
            ]
          }
        }
      ]
    },
    {
      "cell_type": "code",
      "source": [
        "pip install requests"
      ],
      "metadata": {
        "colab": {
          "base_uri": "https://localhost:8080/"
        },
        "id": "2svXOXSi4Ehl",
        "outputId": "e4105e18-4667-47ec-c1e9-d3e51bde4f63"
      },
      "execution_count": null,
      "outputs": [
        {
          "output_type": "stream",
          "name": "stdout",
          "text": [
            "Requirement already satisfied: requests in /usr/local/lib/python3.12/dist-packages (2.32.4)\n",
            "Requirement already satisfied: charset_normalizer<4,>=2 in /usr/local/lib/python3.12/dist-packages (from requests) (3.4.3)\n",
            "Requirement already satisfied: idna<4,>=2.5 in /usr/local/lib/python3.12/dist-packages (from requests) (3.10)\n",
            "Requirement already satisfied: urllib3<3,>=1.21.1 in /usr/local/lib/python3.12/dist-packages (from requests) (2.5.0)\n",
            "Requirement already satisfied: certifi>=2017.4.17 in /usr/local/lib/python3.12/dist-packages (from requests) (2025.8.3)\n"
          ]
        }
      ]
    },
    {
      "cell_type": "code",
      "source": [
        "import requests"
      ],
      "metadata": {
        "id": "1yw71aHK5C4x"
      },
      "execution_count": null,
      "outputs": []
    },
    {
      "cell_type": "markdown",
      "source": [
        "## 4.8 Status Codes"
      ],
      "metadata": {
        "id": "18FWEz8x5PI_"
      }
    },
    {
      "cell_type": "code",
      "source": [
        "from requests import get\n",
        "\n",
        "for website in websites:\n",
        "  if not website.startswith(\"https://\"):\n",
        "    website = f\"https://{website}\"\n",
        "\n",
        "    response = get(website)\n",
        "    print(website, response, \"\\n\")\n",
        "    print(response.status_code, \"\\n\\n\") # status 숫자만 받아오는 것"
      ],
      "metadata": {
        "colab": {
          "base_uri": "https://localhost:8080/"
        },
        "id": "eJBWVtXf5GDV",
        "outputId": "784f74a6-ebc4-4697-eea3-69ee88398dca"
      },
      "execution_count": null,
      "outputs": [
        {
          "output_type": "stream",
          "name": "stdout",
          "text": [
            "https://google.com <Response [200]> \n",
            "\n",
            "200 \n",
            "\n",
            "\n",
            "https://x.com <Response [200]> \n",
            "\n",
            "200 \n",
            "\n",
            "\n",
            "https://bing.com <Response [200]> \n",
            "\n",
            "200 \n",
            "\n",
            "\n",
            "https://facebook.com <Response [200]> \n",
            "\n",
            "200 \n",
            "\n",
            "\n"
          ]
        }
      ]
    },
    {
      "cell_type": "code",
      "source": [
        "from requests import get\n",
        "\n",
        "for website in websites:\n",
        "  if not website.startswith(\"https://\"):\n",
        "    website = f\"https://{website}\"\n",
        "\n",
        "    response = get(website)\n",
        "\n",
        "    if response.status_code == 200:\n",
        "      print(f\"{website} is gooood to go!\")\n",
        "    else:\n",
        "      print(f\"{website} returns an error!\")"
      ],
      "metadata": {
        "colab": {
          "base_uri": "https://localhost:8080/"
        },
        "id": "AH4YXEB-5RG0",
        "outputId": "bb9fb559-1782-44e6-ea84-27ed46357936"
      },
      "execution_count": null,
      "outputs": [
        {
          "output_type": "stream",
          "name": "stdout",
          "text": [
            "https://google.com is gooood to go!\n",
            "https://x.com is gooood to go!\n",
            "https://bing.com is gooood to go!\n",
            "https://facebook.com is gooood to go!\n"
          ]
        }
      ]
    },
    {
      "cell_type": "code",
      "source": [
        "from requests import get\n",
        "\n",
        "results = {}\n",
        "\n",
        "for website in websites:\n",
        "  if not website.startswith(\"https://\"):\n",
        "    website = f\"https://{website}\"\n",
        "\n",
        "    response = get(website)\n",
        "\n",
        "    if response.status_code == 200:\n",
        "      results[website] = \"OK\"\n",
        "    else:\n",
        "      results[website] = \"FAILED\"\n",
        "\n",
        "results"
      ],
      "metadata": {
        "colab": {
          "base_uri": "https://localhost:8080/"
        },
        "id": "N_1Qwm5x6pEa",
        "outputId": "0ed1bfbc-7ad6-475c-8dd1-2d58feb0315c"
      },
      "execution_count": null,
      "outputs": [
        {
          "output_type": "execute_result",
          "data": {
            "text/plain": [
              "{'https://google.com': 'OK',\n",
              " 'https://x.com': 'OK',\n",
              " 'https://bing.com': 'OK',\n",
              " 'https://facebook.com': 'OK'}"
            ]
          },
          "metadata": {},
          "execution_count": 33
        }
      ]
    },
    {
      "cell_type": "markdown",
      "source": [
        "## Code Challenge\n",
        "[http stat codes](https://developer.mozilla.org/ko/docs/Web/HTTP/Reference/Status)\n",
        "- 위의 코드는 200 외에는 다 FAILED로 처리되는 중\n",
        "- if, elif 등을 사용해서 다른 상태값이 return 된 경우를 처리해보자!"
      ],
      "metadata": {
        "id": "c8WYxERV79bk"
      }
    },
    {
      "cell_type": "code",
      "source": [
        "from requests import get\n",
        "\n",
        "websites = (\n",
        "    \"google.com\",\n",
        "    \"https://airbnb.com\",\n",
        "    \"x.com\",\n",
        "    \"https://yahoo.com\",\n",
        "    \"bing.com\",\n",
        "    \"facebook.com\")\n",
        "\n",
        "results = {}\n",
        "\n",
        "for website in websites:\n",
        "  if not website.startswith(\"https://\"):\n",
        "    website = f\"https://{website}\"\n",
        "\n",
        "  else:\n",
        "    website\n",
        "\n",
        "  res = get(website)\n",
        "  response = res.status_code\n",
        "\n",
        "  if response >= 200 and response < 300:\n",
        "    print(f\"{website} is good to go!\")\n",
        "    results[website] = \"OK\"\n",
        "\n",
        "  elif response >= 300 and response < 400:\n",
        "    print(f\"{website} is going to redirect.\")\n",
        "    results[website] = \"Redirect\"\n",
        "\n",
        "  elif response >= 400 and response < 500:\n",
        "    print(f\"{website} returns client error response.\")\n",
        "    results[website] = \"Client Error\"\n",
        "\n",
        "  elif response >= 500:\n",
        "    print(f\"{website} returns server error response.\")\n",
        "    results[website] = \"Server Error\"\n",
        "\n",
        "  else:\n",
        "    print(f\"{website} needs to be fixed!\")\n",
        "    results[website] = \"Unknown Error\"\n",
        "\n",
        "print('\\n', results)"
      ],
      "metadata": {
        "colab": {
          "base_uri": "https://localhost:8080/"
        },
        "id": "ibjMcVy47EdU",
        "outputId": "1fdd66d6-8cc1-4f94-a586-be5e7e070f58"
      },
      "execution_count": null,
      "outputs": [
        {
          "output_type": "stream",
          "name": "stdout",
          "text": [
            "https://google.com is good to go!\n",
            "https://airbnb.com is good to go!\n",
            "https://x.com is good to go!\n",
            "https://yahoo.com returns client error response.\n",
            "https://bing.com is good to go!\n",
            "https://facebook.com is good to go!\n",
            "\n",
            " {'https://google.com': 'OK', 'https://airbnb.com': 'OK', 'https://x.com': 'OK', 'https://yahoo.com': 'Client Error', 'https://bing.com': 'OK', 'https://facebook.com': 'OK'}\n"
          ]
        }
      ]
    },
    {
      "cell_type": "markdown",
      "source": [
        "## Assignment #1"
      ],
      "metadata": {
        "id": "rGlux2LQJ0p7"
      }
    },
    {
      "cell_type": "code",
      "source": [
        "# BLUEPRINT | DONT EDIT\n",
        "\n",
        "import requests\n",
        "\n",
        "movie_ids = [\n",
        "    238, 680, 550, 185, 641, 515042, 152532, 120467, 872585, 906126, 840430\n",
        "]\n",
        "\n",
        "# /BLUEPRINT\n",
        "\n",
        "# 👇🏻 YOUR CODE 👇🏻:\n",
        "for movie_id in movie_ids:\n",
        "  ref = f'https://nomad-movies.nomadcoders.workers.dev/movies/{movie_id}'\n",
        "  response = requests.get(ref)\n",
        "  data = response.json()\n",
        "  print(f\"{movie_id}: \", f\"[{data['title']}]\", f\"{data['overview']}/\", data['vote_average'])\n",
        "\n",
        "# /YOUR CODE"
      ],
      "metadata": {
        "colab": {
          "base_uri": "https://localhost:8080/"
        },
        "id": "4CLahSpWJ2bQ",
        "outputId": "92560a7f-db7a-44f3-ae2a-a767b9d4c356"
      },
      "execution_count": 21,
      "outputs": [
        {
          "output_type": "stream",
          "name": "stdout",
          "text": [
            "238:  [The Godfather] Spanning the years 1945 to 1955, a chronicle of the fictional Italian-American Corleone crime family. When organized crime family patriarch, Vito Corleone barely survives an attempt on his life, his youngest son, Michael steps in to take care of the would-be killers, launching a campaign of bloody revenge./ 8.686\n",
            "680:  [Pulp Fiction] A burger-loving hit man, his philosophical partner, a drug-addled gangster's moll and a washed-up boxer converge in this sprawling, comedic crime caper. Their adventures unfurl in three stories that ingeniously trip back and forth in time./ 8.487\n",
            "550:  [Fight Club] A ticking-time-bomb insomniac and a slippery soap salesman channel primal male aggression into a shocking new form of therapy. Their concept catches on, with underground \"fight clubs\" forming in every town, until an eccentric gets in the way and ignites an out-of-control spiral toward oblivion./ 8.438\n",
            "185:  [A Clockwork Orange] In a near-future Britain, young Alexander DeLarge and his pals get their kicks beating and raping anyone they please. When not destroying the lives of others, Alex swoons to the music of Beethoven. The state, eager to crack down on juvenile crime, gives an incarcerated Alex the option to undergo an invasive procedure that'll rob him of all personal agency. In a time when conscience is a commodity, can Alex change his tune?/ 8.185\n",
            "641:  [Requiem for a Dream] The drug-induced utopias of four Coney Island residents are shattered when their addictions run deep./ 8.015\n",
            "515042:  [Free Solo] Follow Alex Honnold as he attempts to become the first person to ever free solo climb Yosemite's 3,000 foot high El Capitan wall. With no ropes or safety gear, this would arguably be the greatest feat in rock climbing history./ 7.909\n",
            "152532:  [Dallas Buyers Club] Loosely based on the true-life tale of Ron Woodroof, a drug-taking, women-loving, homophobic man who in 1986 was diagnosed with HIV/AIDS and given thirty days to live./ 7.92\n",
            "120467:  [The Grand Budapest Hotel] The Grand Budapest Hotel tells of a legendary concierge at a famous European hotel between the wars and his friendship with a young employee who becomes his trusted protégé. The story involves the theft and recovery of a priceless Renaissance painting, the battle for an enormous family fortune and the slow and then sudden upheavals that transformed Europe during the first half of the 20th century./ 8.035\n",
            "872585:  [Oppenheimer] The story of J. Robert Oppenheimer's role in the development of the atomic bomb during World War II./ 8.05\n",
            "906126:  [Society of the Snow] On October 13, 1972, Uruguayan Air Force Flight 571, chartered to take a rugby team to Chile, crashes into a glacier in the heart of the Andes./ 7.989\n",
            "840430:  [The Holdovers] A curmudgeonly instructor at a New England prep school is forced to remain on campus during Christmas break to babysit the handful of students with nowhere to go. Eventually, he forms an unlikely bond with one of them — a damaged, brainy troublemaker — and with the school’s head cook, who has just lost a son in Vietnam./ 7.665\n"
          ]
        }
      ]
    },
    {
      "cell_type": "code",
      "source": [],
      "metadata": {
        "id": "pLHccGLkLHYK"
      },
      "execution_count": null,
      "outputs": []
    }
  ]
}