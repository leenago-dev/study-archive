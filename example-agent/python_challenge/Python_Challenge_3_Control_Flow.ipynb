{
  "nbformat": 4,
  "nbformat_minor": 0,
  "metadata": {
    "colab": {
      "provenance": [],
      "authorship_tag": "ABX9TyMjJtB2f1mDW9QMh1rFaY19",
      "include_colab_link": true
    },
    "kernelspec": {
      "name": "python3",
      "display_name": "Python 3"
    },
    "language_info": {
      "name": "python"
    }
  },
  "cells": [
    {
      "cell_type": "markdown",
      "metadata": {
        "id": "view-in-github",
        "colab_type": "text"
      },
      "source": [
        "<a href=\"https://colab.research.google.com/github/blooming-daisy/nomad_coder_project/blob/master/python_challenge/Python_Challenge_3_Control_Flow.ipynb\" target=\"_parent\"><img src=\"https://colab.research.google.com/assets/colab-badge.svg\" alt=\"Open In Colab\"/></a>"
      ]
    },
    {
      "cell_type": "markdown",
      "source": [
        "## 3.3 And & Or"
      ],
      "metadata": {
        "id": "uzjGrnkY2Axy"
      }
    },
    {
      "cell_type": "code",
      "source": [
        "age = int(input(\"How old are you? ▶️ \"))\n",
        "\n",
        "if age < 18:\n",
        "  print(\"You're not allowed to drink.\")\n",
        "elif (age>= 18) and (age < 35):\n",
        "  print(\"You're allowed to drink, but not too much.\")\n",
        "else:\n",
        "  print(\"Go ahead!\")"
      ],
      "metadata": {
        "id": "XG9KeWGyxFGd",
        "colab": {
          "base_uri": "https://localhost:8080/"
        },
        "outputId": "bb2b8fc3-8ee6-4d34-ed0e-ac580cf19ec7"
      },
      "execution_count": null,
      "outputs": [
        {
          "output_type": "stream",
          "name": "stdout",
          "text": [
            "How old are you? ▶️ 30\n",
            "You're allowed to drink, but not too much.\n"
          ]
        }
      ]
    },
    {
      "cell_type": "markdown",
      "source": [
        "## 3.4 Python Standard Library"
      ],
      "metadata": {
        "id": "qBm6XiKM75jc"
      }
    },
    {
      "cell_type": "code",
      "source": [
        "from random import randint\n",
        "\n",
        "user_choice = int(input(\"Choose the number ▶️\"))\n",
        "pc_choice = randint(1,50)\n",
        "\n",
        "if user_choice == pc_choice:\n",
        "  print(\"It's draw! Computer chose \", pc_choice)\n",
        "elif user_choice > pc_choice:\n",
        "  print(\"You win! Computer chose \", pc_choice)\n",
        "else:\n",
        "  print(\"You lose! Computer chose \", pc_choice)"
      ],
      "metadata": {
        "id": "Z8G09Lml1MlN",
        "colab": {
          "base_uri": "https://localhost:8080/"
        },
        "outputId": "fb246b11-755e-4722-dc10-be66c8708587"
      },
      "execution_count": null,
      "outputs": [
        {
          "output_type": "stream",
          "name": "stdout",
          "text": [
            "Choose the number ▶️30\n",
            "You lose! Computer chose  32\n"
          ]
        }
      ]
    },
    {
      "cell_type": "markdown",
      "source": [
        "## 3.5 While"
      ],
      "metadata": {
        "id": "etHHzsHt-jKH"
      }
    },
    {
      "cell_type": "code",
      "source": [
        "# if you want to ignore multiple lines, just use 3 quotes.\n",
        "\n",
        "\"\"\"\n",
        "from random import randint\n",
        "\n",
        "user_choice = int(input(\"Choose the number ▶️\"))\n",
        "pc_choice = randint(1,50) # I've imported this!\n",
        "\n",
        "if user_choice == pc_choice:\n",
        "  print(\"It's draw! Computer chose \", pc_choice)\n",
        "elif user_choice > pc_choice:\n",
        "  print(\"You win! Computer chose \", pc_choice)\n",
        "else:\n",
        "  print(\"You lose! Computer chose \", pc_choice)\n",
        "\"\"\"\n",
        "\n",
        "distance = 0\n",
        "\n",
        "while distance < 20:\n",
        "  print(\"I'm running: \", distance, \"km\")\n",
        "  distance += 1"
      ],
      "metadata": {
        "colab": {
          "base_uri": "https://localhost:8080/"
        },
        "id": "RHCXxVDb9u-G",
        "outputId": "294f6f69-271d-4ee3-ec7f-d97f3408f98e"
      },
      "execution_count": null,
      "outputs": [
        {
          "output_type": "stream",
          "name": "stdout",
          "text": [
            "I'm running:  0 km\n",
            "I'm running:  1 km\n",
            "I'm running:  2 km\n",
            "I'm running:  3 km\n",
            "I'm running:  4 km\n",
            "I'm running:  5 km\n",
            "I'm running:  6 km\n",
            "I'm running:  7 km\n",
            "I'm running:  8 km\n",
            "I'm running:  9 km\n",
            "I'm running:  10 km\n",
            "I'm running:  11 km\n",
            "I'm running:  12 km\n",
            "I'm running:  13 km\n",
            "I'm running:  14 km\n",
            "I'm running:  15 km\n",
            "I'm running:  16 km\n",
            "I'm running:  17 km\n",
            "I'm running:  18 km\n",
            "I'm running:  19 km\n"
          ]
        }
      ]
    },
    {
      "cell_type": "markdown",
      "source": [
        "## 3.6 Python Casino"
      ],
      "metadata": {
        "id": "RlZ52u2-AcuF"
      }
    },
    {
      "cell_type": "code",
      "source": [
        "from random import randint\n",
        "\n",
        "print(\"Welcome to Python casino!\")\n",
        "\n",
        "\n",
        "pc_choice = randint(1,50) # I've imported this!\n",
        "\n",
        "playing = True\n",
        "\n",
        "while playing:\n",
        "  user_choice = int(input(\"Choose the number ▶️\"))\n",
        "  if user_choice == pc_choice:\n",
        "    print(\"I won!\", pc_choice)\n",
        "    playing = False\n",
        "\n",
        "  elif user_choice > pc_choice:\n",
        "    print(\"Lower!\")\n",
        "\n",
        "  else:\n",
        "    print(\"Higher\")"
      ],
      "metadata": {
        "colab": {
          "base_uri": "https://localhost:8080/"
        },
        "id": "EQwNwFa3_4oE",
        "outputId": "0c40457b-662f-444e-bf64-306c57c3dab6"
      },
      "execution_count": null,
      "outputs": [
        {
          "output_type": "stream",
          "name": "stdout",
          "text": [
            "Welcome to Python casino!\n",
            "Choose the number ▶️30\n",
            "Lower!\n",
            "Choose the number ▶️20\n",
            "Lower!\n",
            "Choose the number ▶️10\n",
            "I won! 10\n"
          ]
        }
      ]
    },
    {
      "cell_type": "markdown",
      "source": [
        "## Assignment #1"
      ],
      "metadata": {
        "id": "MQDRZhXBwANA"
      }
    },
    {
      "cell_type": "code",
      "source": [
        "# 👇🏻 YOUR CODE 👇🏻:\n",
        "\n",
        "# /YOUR CODE\n",
        "\n",
        "# BLUEPRINT | DONT EDIT\n",
        "\n",
        "monthly_revenue = 5500000\n",
        "monthly_expenses = 2700000\n",
        "tax_credits = 0.01\n",
        "\n",
        "def get_yearly_revenue(monthly_revenue):\n",
        "  yearly_revenue = monthly_revenue * 12\n",
        "  return yearly_revenue\n",
        "\n",
        "def get_yearly_expenses(monthly_expenses):\n",
        "  yearly_expenses = monthly_expenses * 12\n",
        "  return yearly_expenses\n",
        "\n",
        "def get_tax_amount(profit):\n",
        "\n",
        "  if profit > 100000:\n",
        "    tax_rate = 0.25\n",
        "  else:\n",
        "    tax_rate = 0.15\n",
        "\n",
        "  tax_amount = profit * tax_rate\n",
        "  return tax_amount\n",
        "\n",
        "def apply_tax_credits(tax_amount, tax_credits):\n",
        "  amount_to_discount = tax_amount * tax_credits\n",
        "  final_tax = tax_amount - amount_to_discount\n",
        "  return final_tax\n",
        "\n",
        "\n",
        "yearly_revenue = get_yearly_revenue(monthly_revenue)\n",
        "yearly_expenses = get_yearly_expenses(monthly_expenses)\n",
        "\n",
        "profit = yearly_revenue - yearly_expenses\n",
        "\n",
        "tax_amount = get_tax_amount(profit)\n",
        "\n",
        "final_tax_amount = tax_amount - apply_tax_credits(tax_amount, tax_credits)\n",
        "\n",
        "print(f\"Your tax bill is: ${final_tax_amount}\")\n",
        "\n",
        "# /BLUEPRINT"
      ],
      "metadata": {
        "id": "eu1vFE7gBG_M",
        "colab": {
          "base_uri": "https://localhost:8080/"
        },
        "outputId": "804726c5-b3aa-49a8-f4b0-fa920fb41cd2"
      },
      "execution_count": null,
      "outputs": [
        {
          "output_type": "stream",
          "name": "stdout",
          "text": [
            "Your tax bill is: $84000.0\n"
          ]
        }
      ]
    },
    {
      "cell_type": "markdown",
      "source": [
        "## Assignment #2"
      ],
      "metadata": {
        "id": "C4cs25q006dh"
      }
    },
    {
      "cell_type": "code",
      "source": [
        "progress = True\n",
        "\n",
        "while progress:\n",
        "  a = int(input(\"Choose a number:\"))\n",
        "  b = int(input(\"Choose another one:\"))\n",
        "  operation = input(\"\"\"Choose an operation:\n",
        "  Options are: +, -, * or /.\n",
        "  Write 'exit' to finish\n",
        "  \"\"\")\n",
        "\n",
        "  if operation == \"+\":\n",
        "    print(a+b)\n",
        "  elif operation == \"-\":\n",
        "    print(a-b)\n",
        "  elif operation == \"*\":\n",
        "    print(a*b)\n",
        "  elif operation == \"/\":\n",
        "    print(a/b)\n",
        "  elif operation == \"exit\":\n",
        "    progress = False\n",
        "  else:\n",
        "    print(\"Invalid operation. Try agian\")\n",
        "\n",
        ""
      ],
      "metadata": {
        "colab": {
          "base_uri": "https://localhost:8080/"
        },
        "id": "1rooysyG06I1",
        "outputId": "ab1ffcb3-0735-4b3f-85b1-87ace43b7de2"
      },
      "execution_count": 5,
      "outputs": [
        {
          "name": "stdout",
          "output_type": "stream",
          "text": [
            "Choose a number:15\n",
            "Choose another one:15\n",
            "Choose an operation: \n",
            "  Options are: +, -, * or /. \n",
            "  Write 'exit' to finish\n",
            "  exit\n"
          ]
        }
      ]
    },
    {
      "cell_type": "code",
      "source": [],
      "metadata": {
        "id": "BHq6YS7K2o96"
      },
      "execution_count": null,
      "outputs": []
    }
  ]
}